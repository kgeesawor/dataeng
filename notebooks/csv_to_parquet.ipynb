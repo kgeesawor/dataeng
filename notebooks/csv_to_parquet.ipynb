{
 "cells": [
  {
   "cell_type": "code",
   "execution_count": 3,
   "metadata": {},
   "outputs": [
    {
     "name": "stdout",
     "output_type": "stream",
     "text": [
      "about to start\n",
      "orders\n",
      "order_products__prior\n",
      "order_products__train\n",
      "products\n",
      "sample_submission\n",
      "departments\n",
      "aisles\n"
     ]
    }
   ],
   "source": [
    "import pandas as pd\n",
    "import pyarrow.parquet as pq\n",
    "import pyarrow as pa\n",
    "import os \n",
    "\n",
    "path = \"/home/kgeesawor/git/data/instacart-market-basket-analysis/\"\n",
    "filenames_csv = [filename[:-4] for filename in os.listdir(path) if filename.endswith(\".csv\")]\n",
    "filenames_parquet = [filename[:-4] for filename in os.listdir(path) if filename.endswith(\".parquet\")]\n",
    "filenames = [file for file in filenames_csv if file not in filenames_parquet]\n",
    "\n",
    "# Define a Parquet writer\n",
    "parquet_schema = None\n",
    "parquet_writer = None\n",
    "\n",
    "# Read the CSV file in chunks\n",
    "chunksize = 10 ** 6  # adjust this value depending on your available memory\n",
    "\n",
    "print(\"about to start\")\n",
    "for file in filenames_csv:\n",
    "    print(file)\n",
    "    parquet_file = path+file+\".parquet\"\n",
    "    parquet_schema = None\n",
    "    parquet_writer = None\n",
    "\n",
    "    for chunk in pd.read_csv(path+file+\".csv\", chunksize=chunksize):\n",
    "        # Initialize the Parquet writer\n",
    "        if parquet_writer is None:\n",
    "            parquet_schema = pa.Table.from_pandas(df=chunk).schema\n",
    "            parquet_writer = pq.ParquetWriter(parquet_file, parquet_schema)\n",
    "\n",
    "        # Write the chunk to the Parquet file\n",
    "        table = pa.Table.from_pandas(chunk, schema=parquet_schema)\n",
    "        parquet_writer.write_table(table)\n",
    "\n",
    "    # Close the Parquet writer\n",
    "    parquet_writer.close()\n",
    "\n",
    "\n"
   ]
  }
 ],
 "metadata": {
  "kernelspec": {
   "display_name": "Python 3",
   "language": "python",
   "name": "python3"
  },
  "language_info": {
   "codemirror_mode": {
    "name": "ipython",
    "version": 3
   },
   "file_extension": ".py",
   "mimetype": "text/x-python",
   "name": "python",
   "nbconvert_exporter": "python",
   "pygments_lexer": "ipython3",
   "version": "3.10.12"
  }
 },
 "nbformat": 4,
 "nbformat_minor": 2
}
